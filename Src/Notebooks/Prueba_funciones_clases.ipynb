{
 "cells": [
  {
   "cell_type": "code",
   "execution_count": 1,
   "metadata": {},
   "outputs": [],
   "source": [
    "import matplotlib.pyplot as plt\n",
    "import seaborn as sns\n",
    "import plotly.express as px\n",
    "import pandas as pd\n",
    "import numpy as np\n",
    "from datetime import datetime\n"
   ]
  },
  {
   "cell_type": "code",
   "execution_count": 2,
   "metadata": {},
   "outputs": [],
   "source": [
    "df = pd.read_csv(\"C:\\\\Users\\\\camil\\\\OneDrive\\\\Documentos\\\\GitHub\\\\GITHUb\\\\EDA_DS\\\\Src\\\\Data\\\\raw\\\\08_19_2020.csv\", sep=\";\")"
   ]
  },
  {
   "cell_type": "markdown",
   "metadata": {},
   "source": [
    "teams"
   ]
  },
  {
   "cell_type": "code",
   "execution_count": 3,
   "metadata": {},
   "outputs": [
    {
     "data": {
      "text/plain": [
       "Index(['t1_playerid', 't1_ban1', 't1_ban2', 't1_ban3', 't1_ban4', 't1_ban5',\n",
       "       't1_result', 't1_firstblood', 't1_firstdragon', 't1_dragons',\n",
       "       ...\n",
       "       't1p5_monsterkills', 't1p5_monsterkillsownjungle',\n",
       "       't1p5_monsterkillsenemyjungle', 't1p5_cspm', 't1p5_goldat10',\n",
       "       't1p5pat10', 't1p5_csat10', 't1p5_goldat15', 't1p5pat15',\n",
       "       't1p5_csat15'],\n",
       "      dtype='object', length=200)"
      ]
     },
     "execution_count": 3,
     "metadata": {},
     "output_type": "execute_result"
    }
   ],
   "source": [
    "df.columns[df.columns.str.startswith(\"t1\")]"
   ]
  },
  {
   "cell_type": "code",
   "execution_count": 4,
   "metadata": {},
   "outputs": [
    {
     "data": {
      "text/plain": [
       "Index([], dtype='object')"
      ]
     },
     "execution_count": 4,
     "metadata": {},
     "output_type": "execute_result"
    }
   ],
   "source": [
    "df.columns[df.columns.str.startswith(\"blue\")]"
   ]
  },
  {
   "cell_type": "code",
   "execution_count": 5,
   "metadata": {},
   "outputs": [],
   "source": [
    "df.columns = df.columns.str.replace(\"t1_\", \"blue_\")"
   ]
  },
  {
   "cell_type": "code",
   "execution_count": 6,
   "metadata": {},
   "outputs": [
    {
     "data": {
      "text/plain": [
       "Index(['t1p1_position', 't1p1_player', 't1p1_team', 't1p1_champion',\n",
       "       't1p1_kills', 't1p1_deaths', 't1p1_assists', 't1p1_firstblood',\n",
       "       't1p1_firstbloodkill', 't1p1_firstbloodassist',\n",
       "       ...\n",
       "       't1p5_monsterkills', 't1p5_monsterkillsownjungle',\n",
       "       't1p5_monsterkillsenemyjungle', 't1p5_cspm', 't1p5_goldat10',\n",
       "       't1p5pat10', 't1p5_csat10', 't1p5_goldat15', 't1p5pat15',\n",
       "       't1p5_csat15'],\n",
       "      dtype='object', length=175)"
      ]
     },
     "execution_count": 6,
     "metadata": {},
     "output_type": "execute_result"
    }
   ],
   "source": [
    "df.columns[df.columns.str.startswith(\"t1\")]"
   ]
  },
  {
   "cell_type": "code",
   "execution_count": 7,
   "metadata": {},
   "outputs": [
    {
     "data": {
      "text/plain": [
       "Index(['blue_playerid', 'blue_ban1', 'blue_ban2', 'blue_ban3', 'blue_ban4',\n",
       "       'blue_ban5', 'blue_result', 'blue_firstblood', 'blue_firstdragon',\n",
       "       'blue_dragons', 'blue_elementaldrakes', 'blue_infernals',\n",
       "       'blue_mountains', 'blue_clouds', 'blue_oceans', 'blue_elders',\n",
       "       'blue_firstherald', 'blue_heralds', 'blue_firstbaron', 'blue_barons',\n",
       "       'blue_firsttower', 'blue_towers', 'blue_firstmidtower',\n",
       "       'blue_firsttothreetowers', 'blue_inhibitors'],\n",
       "      dtype='object')"
      ]
     },
     "execution_count": 7,
     "metadata": {},
     "output_type": "execute_result"
    }
   ],
   "source": [
    "df.columns[df.columns.str.startswith(\"blue\")]"
   ]
  },
  {
   "cell_type": "code",
   "execution_count": 8,
   "metadata": {},
   "outputs": [],
   "source": [
    "# t1p1\n",
    "df.columns = df.columns.str.replace(\"t1p1\", \"blue_p1\")\n",
    "\n",
    "# t1p2\n",
    "df.columns = df.columns.str.replace(\"t1p2\", \"blue_p2\")\n",
    "\n",
    "#t1p3\n",
    "df.columns = df.columns.str.replace(\"t1p3\", \"blue_p3\")\n",
    "\n",
    "#t1p4\n",
    "\n",
    "df.columns = df.columns.str.replace(\"t1p4\", \"blue_p4\")\n",
    "\n",
    "#t1p4\n",
    "\n",
    "df.columns = df.columns.str.replace(\"t1p5\", \"blue_p5\")"
   ]
  },
  {
   "cell_type": "code",
   "execution_count": 9,
   "metadata": {},
   "outputs": [
    {
     "data": {
      "text/plain": [
       "Index([], dtype='object')"
      ]
     },
     "execution_count": 9,
     "metadata": {},
     "output_type": "execute_result"
    }
   ],
   "source": [
    "df.columns[df.columns.str.startswith(\"t1\")]"
   ]
  },
  {
   "cell_type": "code",
   "execution_count": 10,
   "metadata": {},
   "outputs": [
    {
     "data": {
      "text/plain": [
       "Index(['blue_playerid', 'blue_ban1', 'blue_ban2', 'blue_ban3', 'blue_ban4',\n",
       "       'blue_ban5', 'blue_result', 'blue_firstblood', 'blue_firstdragon',\n",
       "       'blue_dragons',\n",
       "       ...\n",
       "       'blue_p5_monsterkills', 'blue_p5_monsterkillsownjungle',\n",
       "       'blue_p5_monsterkillsenemyjungle', 'blue_p5_cspm', 'blue_p5_goldat10',\n",
       "       'blue_p5pat10', 'blue_p5_csat10', 'blue_p5_goldat15', 'blue_p5pat15',\n",
       "       'blue_p5_csat15'],\n",
       "      dtype='object', length=200)"
      ]
     },
     "execution_count": 10,
     "metadata": {},
     "output_type": "execute_result"
    }
   ],
   "source": [
    "df.columns[df.columns.str.startswith(\"blue\")]"
   ]
  },
  {
   "cell_type": "code",
   "execution_count": 11,
   "metadata": {},
   "outputs": [
    {
     "data": {
      "text/plain": [
       "Index(['t2_playerid', 't2_ban1', 't2_ban2', 't2_ban3', 't2_ban4', 't2_ban5',\n",
       "       't2_result', 't2_firstblood', 't2_firstdragon', 't2_dragons',\n",
       "       ...\n",
       "       't2p5_monsterkills', 't2p5_monsterkillsownjungle',\n",
       "       't2p5_monsterkillsenemyjungle', 't2p5_cspm', 't2p5_goldat10',\n",
       "       't2p5pat10', 't2p5_csat10', 't2p5_goldat15', 't2p5pat15',\n",
       "       't2p5_csat15'],\n",
       "      dtype='object', length=200)"
      ]
     },
     "execution_count": 11,
     "metadata": {},
     "output_type": "execute_result"
    }
   ],
   "source": [
    "df.columns[df.columns.str.startswith(\"t2\")]\n"
   ]
  },
  {
   "cell_type": "code",
   "execution_count": 12,
   "metadata": {},
   "outputs": [
    {
     "data": {
      "text/plain": [
       "Index([], dtype='object')"
      ]
     },
     "execution_count": 12,
     "metadata": {},
     "output_type": "execute_result"
    }
   ],
   "source": [
    "df.columns[df.columns.str.startswith(\"red\")]"
   ]
  },
  {
   "cell_type": "code",
   "execution_count": 13,
   "metadata": {},
   "outputs": [],
   "source": [
    "# De t2 a red \n",
    "\n",
    "df.columns = df.columns.str.replace(\"t2_\", \"red_\")\n",
    "\n",
    "df.columns = df.columns.str.replace(\"t2\", \"red_\")\n"
   ]
  },
  {
   "cell_type": "code",
   "execution_count": 14,
   "metadata": {},
   "outputs": [
    {
     "data": {
      "text/plain": [
       "Index([], dtype='object')"
      ]
     },
     "execution_count": 14,
     "metadata": {},
     "output_type": "execute_result"
    }
   ],
   "source": [
    "df.columns[df.columns.str.startswith(\"t2\")]"
   ]
  },
  {
   "cell_type": "code",
   "execution_count": 15,
   "metadata": {},
   "outputs": [
    {
     "data": {
      "text/plain": [
       "Index(['red_playerid', 'red_ban1', 'red_ban2', 'red_ban3', 'red_ban4',\n",
       "       'red_ban5', 'red_result', 'red_firstblood', 'red_firstdragon',\n",
       "       'red_dragons',\n",
       "       ...\n",
       "       'red_p5_monsterkills', 'red_p5_monsterkillsownjungle',\n",
       "       'red_p5_monsterkillsenemyjungle', 'red_p5_cspm', 'red_p5_goldat10',\n",
       "       'red_p5pat10', 'red_p5_csat10', 'red_p5_goldat15', 'red_p5pat15',\n",
       "       'red_p5_csat15'],\n",
       "      dtype='object', length=200)"
      ]
     },
     "execution_count": 15,
     "metadata": {},
     "output_type": "execute_result"
    }
   ],
   "source": [
    "df.columns[df.columns.str.startswith(\"red\")]"
   ]
  },
  {
   "cell_type": "markdown",
   "metadata": {},
   "source": [
    "position"
   ]
  },
  {
   "cell_type": "code",
   "execution_count": 16,
   "metadata": {},
   "outputs": [
    {
     "data": {
      "text/html": [
       "<div>\n",
       "<style scoped>\n",
       "    .dataframe tbody tr th:only-of-type {\n",
       "        vertical-align: middle;\n",
       "    }\n",
       "\n",
       "    .dataframe tbody tr th {\n",
       "        vertical-align: top;\n",
       "    }\n",
       "\n",
       "    .dataframe thead th {\n",
       "        text-align: right;\n",
       "    }\n",
       "</style>\n",
       "<table border=\"1\" class=\"dataframe\">\n",
       "  <thead>\n",
       "    <tr style=\"text-align: right;\">\n",
       "      <th></th>\n",
       "      <th>blue_p1_position</th>\n",
       "      <th>blue_p2_position</th>\n",
       "      <th>blue_p3_position</th>\n",
       "      <th>blue_p4_position</th>\n",
       "      <th>blue_p5_position</th>\n",
       "      <th>red_p1_position</th>\n",
       "      <th>red_p2_position</th>\n",
       "      <th>red_p3_position</th>\n",
       "      <th>red_p4_position</th>\n",
       "      <th>red_p5_position</th>\n",
       "    </tr>\n",
       "  </thead>\n",
       "  <tbody>\n",
       "    <tr>\n",
       "      <th>0</th>\n",
       "      <td>sup</td>\n",
       "      <td>bot</td>\n",
       "      <td>mid</td>\n",
       "      <td>jng</td>\n",
       "      <td>top</td>\n",
       "      <td>sup</td>\n",
       "      <td>bot</td>\n",
       "      <td>mid</td>\n",
       "      <td>jng</td>\n",
       "      <td>top</td>\n",
       "    </tr>\n",
       "    <tr>\n",
       "      <th>1</th>\n",
       "      <td>sup</td>\n",
       "      <td>bot</td>\n",
       "      <td>mid</td>\n",
       "      <td>jng</td>\n",
       "      <td>top</td>\n",
       "      <td>sup</td>\n",
       "      <td>bot</td>\n",
       "      <td>mid</td>\n",
       "      <td>jng</td>\n",
       "      <td>top</td>\n",
       "    </tr>\n",
       "    <tr>\n",
       "      <th>2</th>\n",
       "      <td>sup</td>\n",
       "      <td>bot</td>\n",
       "      <td>mid</td>\n",
       "      <td>jng</td>\n",
       "      <td>top</td>\n",
       "      <td>sup</td>\n",
       "      <td>bot</td>\n",
       "      <td>mid</td>\n",
       "      <td>jng</td>\n",
       "      <td>top</td>\n",
       "    </tr>\n",
       "    <tr>\n",
       "      <th>3</th>\n",
       "      <td>sup</td>\n",
       "      <td>bot</td>\n",
       "      <td>mid</td>\n",
       "      <td>jng</td>\n",
       "      <td>top</td>\n",
       "      <td>sup</td>\n",
       "      <td>bot</td>\n",
       "      <td>mid</td>\n",
       "      <td>jng</td>\n",
       "      <td>top</td>\n",
       "    </tr>\n",
       "    <tr>\n",
       "      <th>4</th>\n",
       "      <td>sup</td>\n",
       "      <td>bot</td>\n",
       "      <td>mid</td>\n",
       "      <td>jng</td>\n",
       "      <td>top</td>\n",
       "      <td>sup</td>\n",
       "      <td>bot</td>\n",
       "      <td>mid</td>\n",
       "      <td>jng</td>\n",
       "      <td>top</td>\n",
       "    </tr>\n",
       "    <tr>\n",
       "      <th>...</th>\n",
       "      <td>...</td>\n",
       "      <td>...</td>\n",
       "      <td>...</td>\n",
       "      <td>...</td>\n",
       "      <td>...</td>\n",
       "      <td>...</td>\n",
       "      <td>...</td>\n",
       "      <td>...</td>\n",
       "      <td>...</td>\n",
       "      <td>...</td>\n",
       "    </tr>\n",
       "    <tr>\n",
       "      <th>5144</th>\n",
       "      <td>sup</td>\n",
       "      <td>bot</td>\n",
       "      <td>mid</td>\n",
       "      <td>jng</td>\n",
       "      <td>top</td>\n",
       "      <td>sup</td>\n",
       "      <td>bot</td>\n",
       "      <td>mid</td>\n",
       "      <td>jng</td>\n",
       "      <td>top</td>\n",
       "    </tr>\n",
       "    <tr>\n",
       "      <th>5145</th>\n",
       "      <td>sup</td>\n",
       "      <td>bot</td>\n",
       "      <td>mid</td>\n",
       "      <td>jng</td>\n",
       "      <td>top</td>\n",
       "      <td>sup</td>\n",
       "      <td>bot</td>\n",
       "      <td>mid</td>\n",
       "      <td>jng</td>\n",
       "      <td>top</td>\n",
       "    </tr>\n",
       "    <tr>\n",
       "      <th>5146</th>\n",
       "      <td>sup</td>\n",
       "      <td>bot</td>\n",
       "      <td>mid</td>\n",
       "      <td>jng</td>\n",
       "      <td>top</td>\n",
       "      <td>sup</td>\n",
       "      <td>bot</td>\n",
       "      <td>mid</td>\n",
       "      <td>jng</td>\n",
       "      <td>top</td>\n",
       "    </tr>\n",
       "    <tr>\n",
       "      <th>5147</th>\n",
       "      <td>sup</td>\n",
       "      <td>bot</td>\n",
       "      <td>mid</td>\n",
       "      <td>jng</td>\n",
       "      <td>top</td>\n",
       "      <td>sup</td>\n",
       "      <td>bot</td>\n",
       "      <td>mid</td>\n",
       "      <td>jng</td>\n",
       "      <td>top</td>\n",
       "    </tr>\n",
       "    <tr>\n",
       "      <th>5148</th>\n",
       "      <td>sup</td>\n",
       "      <td>bot</td>\n",
       "      <td>mid</td>\n",
       "      <td>jng</td>\n",
       "      <td>top</td>\n",
       "      <td>sup</td>\n",
       "      <td>bot</td>\n",
       "      <td>mid</td>\n",
       "      <td>jng</td>\n",
       "      <td>top</td>\n",
       "    </tr>\n",
       "  </tbody>\n",
       "</table>\n",
       "<p>5149 rows × 10 columns</p>\n",
       "</div>"
      ],
      "text/plain": [
       "     blue_p1_position blue_p2_position blue_p3_position blue_p4_position  \\\n",
       "0                 sup              bot              mid              jng   \n",
       "1                 sup              bot              mid              jng   \n",
       "2                 sup              bot              mid              jng   \n",
       "3                 sup              bot              mid              jng   \n",
       "4                 sup              bot              mid              jng   \n",
       "...               ...              ...              ...              ...   \n",
       "5144              sup              bot              mid              jng   \n",
       "5145              sup              bot              mid              jng   \n",
       "5146              sup              bot              mid              jng   \n",
       "5147              sup              bot              mid              jng   \n",
       "5148              sup              bot              mid              jng   \n",
       "\n",
       "     blue_p5_position red_p1_position red_p2_position red_p3_position  \\\n",
       "0                 top             sup             bot             mid   \n",
       "1                 top             sup             bot             mid   \n",
       "2                 top             sup             bot             mid   \n",
       "3                 top             sup             bot             mid   \n",
       "4                 top             sup             bot             mid   \n",
       "...               ...             ...             ...             ...   \n",
       "5144              top             sup             bot             mid   \n",
       "5145              top             sup             bot             mid   \n",
       "5146              top             sup             bot             mid   \n",
       "5147              top             sup             bot             mid   \n",
       "5148              top             sup             bot             mid   \n",
       "\n",
       "     red_p4_position red_p5_position  \n",
       "0                jng             top  \n",
       "1                jng             top  \n",
       "2                jng             top  \n",
       "3                jng             top  \n",
       "4                jng             top  \n",
       "...              ...             ...  \n",
       "5144             jng             top  \n",
       "5145             jng             top  \n",
       "5146             jng             top  \n",
       "5147             jng             top  \n",
       "5148             jng             top  \n",
       "\n",
       "[5149 rows x 10 columns]"
      ]
     },
     "execution_count": 16,
     "metadata": {},
     "output_type": "execute_result"
    }
   ],
   "source": [
    "df[df.columns[df.columns.str.endswith(\"position\")]]"
   ]
  },
  {
   "cell_type": "code",
   "execution_count": 17,
   "metadata": {},
   "outputs": [
    {
     "data": {
      "text/plain": [
       "blue_p1_position  blue_p2_position  blue_p3_position  blue_p4_position  blue_p5_position  red_p1_position  red_p2_position  red_p3_position  red_p4_position  red_p5_position\n",
       "sup               bot               mid               jng               top               sup              bot              mid              jng              top                5149\n",
       "Name: count, dtype: int64"
      ]
     },
     "execution_count": 17,
     "metadata": {},
     "output_type": "execute_result"
    }
   ],
   "source": [
    "df[df.columns[df.columns.str.endswith(\"position\")]].value_counts()"
   ]
  },
  {
   "cell_type": "code",
   "execution_count": 18,
   "metadata": {},
   "outputs": [],
   "source": [
    "# p1 to sup\n",
    "df.columns = df.columns.str.replace(\"p1\", \"sup\")\n",
    "\n",
    "#p2 to bot\n",
    "df.columns = df.columns.str.replace(\"p2\", \"bot\")\n",
    "\n",
    "#p3 to mid\n",
    "df.columns = df.columns.str.replace(\"p3\", \"mid\")\n",
    "\n",
    "#p4 to jng\n",
    "df.columns = df.columns.str.replace(\"p4\", \"jng\")\n",
    "\n",
    "#p5 to top\n",
    "df.columns = df.columns.str.replace(\"p5\", \"top\")"
   ]
  },
  {
   "cell_type": "code",
   "execution_count": 19,
   "metadata": {},
   "outputs": [],
   "source": [
    "position_cols = df[df.columns[df.columns.str.endswith(\"position\")]]\n",
    "\n",
    "for i in df:\n",
    "    if i in position_cols:\n",
    "        del df[f\"{i}\"]"
   ]
  },
  {
   "cell_type": "code",
   "execution_count": 20,
   "metadata": {},
   "outputs": [
    {
     "data": {
      "text/plain": [
       "Index([], dtype='object')"
      ]
     },
     "execution_count": 20,
     "metadata": {},
     "output_type": "execute_result"
    }
   ],
   "source": [
    "df.columns[df.columns.str.endswith(\"position\")]"
   ]
  },
  {
   "cell_type": "markdown",
   "metadata": {},
   "source": [
    "team column"
   ]
  },
  {
   "cell_type": "code",
   "execution_count": 21,
   "metadata": {},
   "outputs": [
    {
     "data": {
      "text/html": [
       "<div>\n",
       "<style scoped>\n",
       "    .dataframe tbody tr th:only-of-type {\n",
       "        vertical-align: middle;\n",
       "    }\n",
       "\n",
       "    .dataframe tbody tr th {\n",
       "        vertical-align: top;\n",
       "    }\n",
       "\n",
       "    .dataframe thead th {\n",
       "        text-align: right;\n",
       "    }\n",
       "</style>\n",
       "<table border=\"1\" class=\"dataframe\">\n",
       "  <thead>\n",
       "    <tr style=\"text-align: right;\">\n",
       "      <th></th>\n",
       "      <th>blue_playerid</th>\n",
       "      <th>red_playerid</th>\n",
       "    </tr>\n",
       "  </thead>\n",
       "  <tbody>\n",
       "    <tr>\n",
       "      <th>0</th>\n",
       "      <td>SANDBOX Gaming</td>\n",
       "      <td>T1</td>\n",
       "    </tr>\n",
       "    <tr>\n",
       "      <th>1</th>\n",
       "      <td>T1</td>\n",
       "      <td>SANDBOX Gaming</td>\n",
       "    </tr>\n",
       "    <tr>\n",
       "      <th>2</th>\n",
       "      <td>T1</td>\n",
       "      <td>SANDBOX Gaming</td>\n",
       "    </tr>\n",
       "    <tr>\n",
       "      <th>3</th>\n",
       "      <td>T1</td>\n",
       "      <td>SANDBOX Gaming</td>\n",
       "    </tr>\n",
       "    <tr>\n",
       "      <th>4</th>\n",
       "      <td>DRX</td>\n",
       "      <td>Afreeca Freecs</td>\n",
       "    </tr>\n",
       "    <tr>\n",
       "      <th>...</th>\n",
       "      <td>...</td>\n",
       "      <td>...</td>\n",
       "    </tr>\n",
       "    <tr>\n",
       "      <th>5144</th>\n",
       "      <td>Racoon</td>\n",
       "      <td>SAMCLAN Esports Club</td>\n",
       "    </tr>\n",
       "    <tr>\n",
       "      <th>5145</th>\n",
       "      <td>SINNERS Esports</td>\n",
       "      <td>Five Kings</td>\n",
       "    </tr>\n",
       "    <tr>\n",
       "      <th>5146</th>\n",
       "      <td>Team GamerLegion</td>\n",
       "      <td>Riddle Esports</td>\n",
       "    </tr>\n",
       "    <tr>\n",
       "      <th>5147</th>\n",
       "      <td>G2 Arctic</td>\n",
       "      <td>CR4ZY</td>\n",
       "    </tr>\n",
       "    <tr>\n",
       "      <th>5148</th>\n",
       "      <td>Intrepid Fox Gaming</td>\n",
       "      <td>7more7 Pompa Team</td>\n",
       "    </tr>\n",
       "  </tbody>\n",
       "</table>\n",
       "<p>5149 rows × 2 columns</p>\n",
       "</div>"
      ],
      "text/plain": [
       "            blue_playerid          red_playerid\n",
       "0          SANDBOX Gaming                    T1\n",
       "1                      T1        SANDBOX Gaming\n",
       "2                      T1        SANDBOX Gaming\n",
       "3                      T1        SANDBOX Gaming\n",
       "4                     DRX        Afreeca Freecs\n",
       "...                   ...                   ...\n",
       "5144               Racoon  SAMCLAN Esports Club\n",
       "5145      SINNERS Esports            Five Kings\n",
       "5146     Team GamerLegion        Riddle Esports\n",
       "5147            G2 Arctic                 CR4ZY\n",
       "5148  Intrepid Fox Gaming     7more7 Pompa Team\n",
       "\n",
       "[5149 rows x 2 columns]"
      ]
     },
     "execution_count": 21,
     "metadata": {},
     "output_type": "execute_result"
    }
   ],
   "source": [
    "df[df.columns[df.columns.str.endswith(\"playerid\")]]"
   ]
  },
  {
   "cell_type": "code",
   "execution_count": 22,
   "metadata": {},
   "outputs": [
    {
     "data": {
      "text/html": [
       "<div>\n",
       "<style scoped>\n",
       "    .dataframe tbody tr th:only-of-type {\n",
       "        vertical-align: middle;\n",
       "    }\n",
       "\n",
       "    .dataframe tbody tr th {\n",
       "        vertical-align: top;\n",
       "    }\n",
       "\n",
       "    .dataframe thead th {\n",
       "        text-align: right;\n",
       "    }\n",
       "</style>\n",
       "<table border=\"1\" class=\"dataframe\">\n",
       "  <thead>\n",
       "    <tr style=\"text-align: right;\">\n",
       "      <th></th>\n",
       "      <th>blue_sup_team</th>\n",
       "      <th>blue_bot_team</th>\n",
       "      <th>blue_mid_team</th>\n",
       "      <th>blue_jng_team</th>\n",
       "      <th>blue_top_team</th>\n",
       "      <th>red_sup_team</th>\n",
       "      <th>red_bot_team</th>\n",
       "      <th>red_mid_team</th>\n",
       "      <th>red_jng_team</th>\n",
       "      <th>red_top_team</th>\n",
       "    </tr>\n",
       "  </thead>\n",
       "  <tbody>\n",
       "    <tr>\n",
       "      <th>0</th>\n",
       "      <td>SANDBOX Gaming</td>\n",
       "      <td>SANDBOX Gaming</td>\n",
       "      <td>SANDBOX Gaming</td>\n",
       "      <td>SANDBOX Gaming</td>\n",
       "      <td>SANDBOX Gaming</td>\n",
       "      <td>T1</td>\n",
       "      <td>T1</td>\n",
       "      <td>T1</td>\n",
       "      <td>T1</td>\n",
       "      <td>T1</td>\n",
       "    </tr>\n",
       "    <tr>\n",
       "      <th>1</th>\n",
       "      <td>T1</td>\n",
       "      <td>T1</td>\n",
       "      <td>T1</td>\n",
       "      <td>T1</td>\n",
       "      <td>T1</td>\n",
       "      <td>SANDBOX Gaming</td>\n",
       "      <td>SANDBOX Gaming</td>\n",
       "      <td>SANDBOX Gaming</td>\n",
       "      <td>SANDBOX Gaming</td>\n",
       "      <td>SANDBOX Gaming</td>\n",
       "    </tr>\n",
       "    <tr>\n",
       "      <th>2</th>\n",
       "      <td>T1</td>\n",
       "      <td>T1</td>\n",
       "      <td>T1</td>\n",
       "      <td>T1</td>\n",
       "      <td>T1</td>\n",
       "      <td>SANDBOX Gaming</td>\n",
       "      <td>SANDBOX Gaming</td>\n",
       "      <td>SANDBOX Gaming</td>\n",
       "      <td>SANDBOX Gaming</td>\n",
       "      <td>SANDBOX Gaming</td>\n",
       "    </tr>\n",
       "    <tr>\n",
       "      <th>3</th>\n",
       "      <td>T1</td>\n",
       "      <td>T1</td>\n",
       "      <td>T1</td>\n",
       "      <td>T1</td>\n",
       "      <td>T1</td>\n",
       "      <td>SANDBOX Gaming</td>\n",
       "      <td>SANDBOX Gaming</td>\n",
       "      <td>SANDBOX Gaming</td>\n",
       "      <td>SANDBOX Gaming</td>\n",
       "      <td>SANDBOX Gaming</td>\n",
       "    </tr>\n",
       "    <tr>\n",
       "      <th>4</th>\n",
       "      <td>DRX</td>\n",
       "      <td>DRX</td>\n",
       "      <td>DRX</td>\n",
       "      <td>DRX</td>\n",
       "      <td>DRX</td>\n",
       "      <td>Afreeca Freecs</td>\n",
       "      <td>Afreeca Freecs</td>\n",
       "      <td>Afreeca Freecs</td>\n",
       "      <td>Afreeca Freecs</td>\n",
       "      <td>Afreeca Freecs</td>\n",
       "    </tr>\n",
       "    <tr>\n",
       "      <th>...</th>\n",
       "      <td>...</td>\n",
       "      <td>...</td>\n",
       "      <td>...</td>\n",
       "      <td>...</td>\n",
       "      <td>...</td>\n",
       "      <td>...</td>\n",
       "      <td>...</td>\n",
       "      <td>...</td>\n",
       "      <td>...</td>\n",
       "      <td>...</td>\n",
       "    </tr>\n",
       "    <tr>\n",
       "      <th>5144</th>\n",
       "      <td>Racoon</td>\n",
       "      <td>Racoon</td>\n",
       "      <td>Racoon</td>\n",
       "      <td>Racoon</td>\n",
       "      <td>Racoon</td>\n",
       "      <td>SAMCLAN Esports Club</td>\n",
       "      <td>SAMCLAN Esports Club</td>\n",
       "      <td>SAMCLAN Esports Club</td>\n",
       "      <td>SAMCLAN Esports Club</td>\n",
       "      <td>SAMCLAN Esports Club</td>\n",
       "    </tr>\n",
       "    <tr>\n",
       "      <th>5145</th>\n",
       "      <td>SINNERS Esports</td>\n",
       "      <td>SINNERS Esports</td>\n",
       "      <td>SINNERS Esports</td>\n",
       "      <td>SINNERS Esports</td>\n",
       "      <td>SINNERS Esports</td>\n",
       "      <td>Five Kings</td>\n",
       "      <td>Five Kings</td>\n",
       "      <td>Five Kings</td>\n",
       "      <td>Five Kings</td>\n",
       "      <td>Five Kings</td>\n",
       "    </tr>\n",
       "    <tr>\n",
       "      <th>5146</th>\n",
       "      <td>Team GamerLegion</td>\n",
       "      <td>Team GamerLegion</td>\n",
       "      <td>Team GamerLegion</td>\n",
       "      <td>Team GamerLegion</td>\n",
       "      <td>Team GamerLegion</td>\n",
       "      <td>Riddle Esports</td>\n",
       "      <td>Riddle Esports</td>\n",
       "      <td>Riddle Esports</td>\n",
       "      <td>Riddle Esports</td>\n",
       "      <td>Riddle Esports</td>\n",
       "    </tr>\n",
       "    <tr>\n",
       "      <th>5147</th>\n",
       "      <td>G2 Arctic</td>\n",
       "      <td>G2 Arctic</td>\n",
       "      <td>G2 Arctic</td>\n",
       "      <td>G2 Arctic</td>\n",
       "      <td>G2 Arctic</td>\n",
       "      <td>CR4ZY</td>\n",
       "      <td>CR4ZY</td>\n",
       "      <td>CR4ZY</td>\n",
       "      <td>CR4ZY</td>\n",
       "      <td>CR4ZY</td>\n",
       "    </tr>\n",
       "    <tr>\n",
       "      <th>5148</th>\n",
       "      <td>Intrepid Fox Gaming</td>\n",
       "      <td>Intrepid Fox Gaming</td>\n",
       "      <td>Intrepid Fox Gaming</td>\n",
       "      <td>Intrepid Fox Gaming</td>\n",
       "      <td>Intrepid Fox Gaming</td>\n",
       "      <td>7more7 Pompa Team</td>\n",
       "      <td>7more7 Pompa Team</td>\n",
       "      <td>7more7 Pompa Team</td>\n",
       "      <td>7more7 Pompa Team</td>\n",
       "      <td>7more7 Pompa Team</td>\n",
       "    </tr>\n",
       "  </tbody>\n",
       "</table>\n",
       "<p>5149 rows × 10 columns</p>\n",
       "</div>"
      ],
      "text/plain": [
       "            blue_sup_team        blue_bot_team        blue_mid_team  \\\n",
       "0          SANDBOX Gaming       SANDBOX Gaming       SANDBOX Gaming   \n",
       "1                      T1                   T1                   T1   \n",
       "2                      T1                   T1                   T1   \n",
       "3                      T1                   T1                   T1   \n",
       "4                     DRX                  DRX                  DRX   \n",
       "...                   ...                  ...                  ...   \n",
       "5144               Racoon               Racoon               Racoon   \n",
       "5145      SINNERS Esports      SINNERS Esports      SINNERS Esports   \n",
       "5146     Team GamerLegion     Team GamerLegion     Team GamerLegion   \n",
       "5147            G2 Arctic            G2 Arctic            G2 Arctic   \n",
       "5148  Intrepid Fox Gaming  Intrepid Fox Gaming  Intrepid Fox Gaming   \n",
       "\n",
       "            blue_jng_team        blue_top_team          red_sup_team  \\\n",
       "0          SANDBOX Gaming       SANDBOX Gaming                    T1   \n",
       "1                      T1                   T1        SANDBOX Gaming   \n",
       "2                      T1                   T1        SANDBOX Gaming   \n",
       "3                      T1                   T1        SANDBOX Gaming   \n",
       "4                     DRX                  DRX        Afreeca Freecs   \n",
       "...                   ...                  ...                   ...   \n",
       "5144               Racoon               Racoon  SAMCLAN Esports Club   \n",
       "5145      SINNERS Esports      SINNERS Esports            Five Kings   \n",
       "5146     Team GamerLegion     Team GamerLegion        Riddle Esports   \n",
       "5147            G2 Arctic            G2 Arctic                 CR4ZY   \n",
       "5148  Intrepid Fox Gaming  Intrepid Fox Gaming     7more7 Pompa Team   \n",
       "\n",
       "              red_bot_team          red_mid_team          red_jng_team  \\\n",
       "0                       T1                    T1                    T1   \n",
       "1           SANDBOX Gaming        SANDBOX Gaming        SANDBOX Gaming   \n",
       "2           SANDBOX Gaming        SANDBOX Gaming        SANDBOX Gaming   \n",
       "3           SANDBOX Gaming        SANDBOX Gaming        SANDBOX Gaming   \n",
       "4           Afreeca Freecs        Afreeca Freecs        Afreeca Freecs   \n",
       "...                    ...                   ...                   ...   \n",
       "5144  SAMCLAN Esports Club  SAMCLAN Esports Club  SAMCLAN Esports Club   \n",
       "5145            Five Kings            Five Kings            Five Kings   \n",
       "5146        Riddle Esports        Riddle Esports        Riddle Esports   \n",
       "5147                 CR4ZY                 CR4ZY                 CR4ZY   \n",
       "5148     7more7 Pompa Team     7more7 Pompa Team     7more7 Pompa Team   \n",
       "\n",
       "              red_top_team  \n",
       "0                       T1  \n",
       "1           SANDBOX Gaming  \n",
       "2           SANDBOX Gaming  \n",
       "3           SANDBOX Gaming  \n",
       "4           Afreeca Freecs  \n",
       "...                    ...  \n",
       "5144  SAMCLAN Esports Club  \n",
       "5145            Five Kings  \n",
       "5146        Riddle Esports  \n",
       "5147                 CR4ZY  \n",
       "5148     7more7 Pompa Team  \n",
       "\n",
       "[5149 rows x 10 columns]"
      ]
     },
     "execution_count": 22,
     "metadata": {},
     "output_type": "execute_result"
    }
   ],
   "source": [
    "df[df.columns[df.columns.str.endswith(\"team\")]]\n"
   ]
  },
  {
   "cell_type": "code",
   "execution_count": 23,
   "metadata": {},
   "outputs": [],
   "source": [
    "b_team = df[[\"blue_top_team\", \"blue_mid_team\", \"blue_jng_team\", \"blue_bot_team\", \"blue_sup_team\"]]\n",
    "r_team = df[[\"red_top_team\", \"red_mid_team\", \"red_jng_team\", \"red_bot_team\", \"red_sup_team\"]]\n",
    "\n",
    "for team_col in df:\n",
    "    if team_col in b_team:\n",
    "        del df[f\"{team_col}\"]\n",
    "        \n",
    "    elif team_col in r_team:\n",
    "        del df[f\"{team_col}\"]"
   ]
  },
  {
   "cell_type": "code",
   "execution_count": 24,
   "metadata": {},
   "outputs": [
    {
     "data": {
      "text/plain": [
       "Index([], dtype='object')"
      ]
     },
     "execution_count": 24,
     "metadata": {},
     "output_type": "execute_result"
    }
   ],
   "source": [
    "df.columns[df.columns.str.endswith(\"team\")]"
   ]
  },
  {
   "cell_type": "markdown",
   "metadata": {},
   "source": [
    "victorias"
   ]
  },
  {
   "cell_type": "code",
   "execution_count": 25,
   "metadata": {},
   "outputs": [],
   "source": [
    "df.columns = df.columns.str.replace(\"blue_result\", \"result\")"
   ]
  },
  {
   "cell_type": "code",
   "execution_count": 26,
   "metadata": {},
   "outputs": [],
   "source": [
    "del df[\"red_result\"]"
   ]
  },
  {
   "cell_type": "markdown",
   "metadata": {},
   "source": [
    "first objetives"
   ]
  },
  {
   "cell_type": "code",
   "execution_count": 27,
   "metadata": {},
   "outputs": [],
   "source": [
    "df.columns = df.columns.str.replace(\"blue_first\", \"first\")"
   ]
  },
  {
   "cell_type": "code",
   "execution_count": 28,
   "metadata": {},
   "outputs": [
    {
     "data": {
      "text/plain": [
       "Index(['firstblood', 'firstdragon', 'firstherald', 'firstbaron', 'firsttower',\n",
       "       'firstmidtower', 'firsttothreetowers', 'red_firstblood',\n",
       "       'red_firstdragon', 'red_firstherald', 'red_firstbaron',\n",
       "       'red_firsttower', 'red_firstmidtower', 'red_firsttothreetowers',\n",
       "       'blue_sup_firstblood', 'blue_sup_firstbloodkill',\n",
       "       'blue_sup_firstbloodassist', 'blue_sup_firstbloodvictim',\n",
       "       'blue_bot_firstblood', 'blue_bot_firstbloodkill',\n",
       "       'blue_bot_firstbloodassist', 'blue_bot_firstbloodvictim',\n",
       "       'blue_mid_firstblood', 'blue_mid_firstbloodkill',\n",
       "       'blue_mid_firstbloodassist', 'blue_mid_firstbloodvictim',\n",
       "       'blue_jng_firstblood', 'blue_jng_firstbloodkill',\n",
       "       'blue_jng_firstbloodassist', 'blue_jng_firstbloodvictim',\n",
       "       'blue_top_firstblood', 'blue_top_firstbloodkill',\n",
       "       'blue_top_firstbloodassist', 'blue_top_firstbloodvictim',\n",
       "       'red_sup_firstblood', 'red_sup_firstbloodkill',\n",
       "       'red_sup_firstbloodassist', 'red_sup_firstbloodvictim',\n",
       "       'red_bot_firstblood', 'red_bot_firstbloodkill',\n",
       "       'red_bot_firstbloodassist', 'red_bot_firstbloodvictim',\n",
       "       'red_mid_firstblood', 'red_mid_firstbloodkill',\n",
       "       'red_mid_firstbloodassist', 'red_mid_firstbloodvictim',\n",
       "       'red_jng_firstblood', 'red_jng_firstbloodkill',\n",
       "       'red_jng_firstbloodassist', 'red_jng_firstbloodvictim',\n",
       "       'red_top_firstblood', 'red_top_firstbloodkill',\n",
       "       'red_top_firstbloodassist', 'red_top_firstbloodvictim'],\n",
       "      dtype='object')"
      ]
     },
     "execution_count": 28,
     "metadata": {},
     "output_type": "execute_result"
    }
   ],
   "source": [
    "df.columns[df.columns.str.contains('first')]"
   ]
  },
  {
   "cell_type": "code",
   "execution_count": 29,
   "metadata": {},
   "outputs": [],
   "source": [
    "red_first = df[df.columns[df.columns.str.startswith('red_first')]]\n",
    "\n",
    "for  x in df:\n",
    "    if x in red_first:\n",
    "        del df[f\"{x}\"]"
   ]
  },
  {
   "cell_type": "code",
   "execution_count": 30,
   "metadata": {},
   "outputs": [
    {
     "data": {
      "text/plain": [
       "Index(['blue_sup_firstblood', 'blue_bot_firstblood', 'blue_mid_firstblood',\n",
       "       'blue_jng_firstblood', 'blue_top_firstblood', 'red_sup_firstblood',\n",
       "       'red_bot_firstblood', 'red_mid_firstblood', 'red_jng_firstblood',\n",
       "       'red_top_firstblood'],\n",
       "      dtype='object')"
      ]
     },
     "execution_count": 30,
     "metadata": {},
     "output_type": "execute_result"
    }
   ],
   "source": [
    "firstbloods  = df.columns[df.columns.str.endswith('_firstblood')]\n",
    "firstbloods"
   ]
  },
  {
   "cell_type": "code",
   "execution_count": 31,
   "metadata": {},
   "outputs": [],
   "source": [
    "for y in df:\n",
    "    if y in firstbloods:\n",
    "        del df[f\"{y}\"]"
   ]
  },
  {
   "cell_type": "code",
   "execution_count": 208,
   "metadata": {},
   "outputs": [
    {
     "data": {
      "text/plain": [
       "Index(['firstblood', 'blue_sup_firstbloodkill', 'blue_sup_firstbloodassist',\n",
       "       'blue_sup_firstbloodvictim', 'blue_bot_firstbloodkill',\n",
       "       'blue_bot_firstbloodassist', 'blue_bot_firstbloodvictim',\n",
       "       'blue_mid_firstbloodkill', 'blue_mid_firstbloodassist',\n",
       "       'blue_mid_firstbloodvictim', 'blue_jng_firstbloodkill',\n",
       "       'blue_jng_firstbloodassist', 'blue_jng_firstbloodvictim',\n",
       "       'blue_top_firstbloodkill', 'blue_top_firstbloodassist',\n",
       "       'blue_top_firstbloodvictim', 'red_sup_firstbloodkill',\n",
       "       'red_sup_firstbloodassist', 'red_sup_firstbloodvictim',\n",
       "       'red_bot_firstbloodkill', 'red_bot_firstbloodassist',\n",
       "       'red_bot_firstbloodvictim', 'red_mid_firstbloodkill',\n",
       "       'red_mid_firstbloodassist', 'red_mid_firstbloodvictim',\n",
       "       'red_jng_firstbloodkill', 'red_jng_firstbloodassist',\n",
       "       'red_jng_firstbloodvictim', 'red_top_firstbloodkill',\n",
       "       'red_top_firstbloodassist', 'red_top_firstbloodvictim'],\n",
       "      dtype='object')"
      ]
     },
     "execution_count": 208,
     "metadata": {},
     "output_type": "execute_result"
    }
   ],
   "source": [
    "df.columns[df.columns.str.contains('firstblood')]"
   ]
  },
  {
   "cell_type": "code",
   "execution_count": 32,
   "metadata": {},
   "outputs": [],
   "source": [
    "\n",
    "import sys\n",
    "sys.path.append('C:\\\\Users\\\\camil\\\\OneDrive\\\\Documentos\\\\GitHub\\\\GITHUb\\\\EDA_DS\\\\Src\\\\utils')\n",
    "import gold_statistics"
   ]
  },
  {
   "cell_type": "code",
   "execution_count": 33,
   "metadata": {},
   "outputs": [
    {
     "data": {
      "text/html": [
       "<div>\n",
       "<style scoped>\n",
       "    .dataframe tbody tr th:only-of-type {\n",
       "        vertical-align: middle;\n",
       "    }\n",
       "\n",
       "    .dataframe tbody tr th {\n",
       "        vertical-align: top;\n",
       "    }\n",
       "\n",
       "    .dataframe thead th {\n",
       "        text-align: right;\n",
       "    }\n",
       "</style>\n",
       "<table border=\"1\" class=\"dataframe\">\n",
       "  <thead>\n",
       "    <tr style=\"text-align: right;\">\n",
       "      <th></th>\n",
       "      <th>gameId</th>\n",
       "      <th>league</th>\n",
       "      <th>split</th>\n",
       "      <th>playoffs</th>\n",
       "      <th>date</th>\n",
       "      <th>game</th>\n",
       "      <th>patch</th>\n",
       "      <th>gamelength</th>\n",
       "      <th>blue_playerid</th>\n",
       "      <th>blue_ban1</th>\n",
       "      <th>...</th>\n",
       "      <th>blue_totalgold</th>\n",
       "      <th>blue_earnedgold</th>\n",
       "      <th>blue_spentgold</th>\n",
       "      <th>blue_goldat10</th>\n",
       "      <th>blue_goldat15</th>\n",
       "      <th>red_totalgold</th>\n",
       "      <th>red_earnedgold</th>\n",
       "      <th>red_spentgold</th>\n",
       "      <th>red_goldat10</th>\n",
       "      <th>red_goldat15</th>\n",
       "    </tr>\n",
       "  </thead>\n",
       "  <tbody>\n",
       "    <tr>\n",
       "      <th>0</th>\n",
       "      <td>1241318</td>\n",
       "      <td>KeSPA</td>\n",
       "      <td>NaN</td>\n",
       "      <td>0</td>\n",
       "      <td>03/01/2020 7:33</td>\n",
       "      <td>1</td>\n",
       "      <td>9.24</td>\n",
       "      <td>2220</td>\n",
       "      <td>SANDBOX Gaming</td>\n",
       "      <td>LeBlanc</td>\n",
       "      <td>...</td>\n",
       "      <td>68927</td>\n",
       "      <td>44907</td>\n",
       "      <td>62275.0</td>\n",
       "      <td>14615.0</td>\n",
       "      <td>21953.0</td>\n",
       "      <td>62709</td>\n",
       "      <td>38689</td>\n",
       "      <td>62025.0</td>\n",
       "      <td>14498.0</td>\n",
       "      <td>22778.0</td>\n",
       "    </tr>\n",
       "    <tr>\n",
       "      <th>1</th>\n",
       "      <td>1241322</td>\n",
       "      <td>KeSPA</td>\n",
       "      <td>NaN</td>\n",
       "      <td>0</td>\n",
       "      <td>03/01/2020 9:00</td>\n",
       "      <td>2</td>\n",
       "      <td>9.24</td>\n",
       "      <td>2227</td>\n",
       "      <td>T1</td>\n",
       "      <td>Syndra</td>\n",
       "      <td>...</td>\n",
       "      <td>57283</td>\n",
       "      <td>33188</td>\n",
       "      <td>56575.0</td>\n",
       "      <td>14180.0</td>\n",
       "      <td>21714.0</td>\n",
       "      <td>72004</td>\n",
       "      <td>47909</td>\n",
       "      <td>63975.0</td>\n",
       "      <td>16194.0</td>\n",
       "      <td>27198.0</td>\n",
       "    </tr>\n",
       "    <tr>\n",
       "      <th>2</th>\n",
       "      <td>1241324</td>\n",
       "      <td>KeSPA</td>\n",
       "      <td>NaN</td>\n",
       "      <td>0</td>\n",
       "      <td>03/01/2020 10:05</td>\n",
       "      <td>3</td>\n",
       "      <td>9.24</td>\n",
       "      <td>1711</td>\n",
       "      <td>T1</td>\n",
       "      <td>LeBlanc</td>\n",
       "      <td>...</td>\n",
       "      <td>58078</td>\n",
       "      <td>39248</td>\n",
       "      <td>50660.0</td>\n",
       "      <td>15531.0</td>\n",
       "      <td>24882.0</td>\n",
       "      <td>42465</td>\n",
       "      <td>23635</td>\n",
       "      <td>40375.0</td>\n",
       "      <td>14849.0</td>\n",
       "      <td>22316.0</td>\n",
       "    </tr>\n",
       "    <tr>\n",
       "      <th>3</th>\n",
       "      <td>1241328</td>\n",
       "      <td>KeSPA</td>\n",
       "      <td>NaN</td>\n",
       "      <td>0</td>\n",
       "      <td>03/01/2020 10:57</td>\n",
       "      <td>4</td>\n",
       "      <td>9.24</td>\n",
       "      <td>1999</td>\n",
       "      <td>T1</td>\n",
       "      <td>Rumble</td>\n",
       "      <td>...</td>\n",
       "      <td>50749</td>\n",
       "      <td>28979</td>\n",
       "      <td>48400.0</td>\n",
       "      <td>14313.0</td>\n",
       "      <td>22329.0</td>\n",
       "      <td>64845</td>\n",
       "      <td>43075</td>\n",
       "      <td>57400.0</td>\n",
       "      <td>15892.0</td>\n",
       "      <td>24800.0</td>\n",
       "    </tr>\n",
       "    <tr>\n",
       "      <th>4</th>\n",
       "      <td>1241386</td>\n",
       "      <td>KeSPA</td>\n",
       "      <td>NaN</td>\n",
       "      <td>0</td>\n",
       "      <td>04/01/2020 5:33</td>\n",
       "      <td>1</td>\n",
       "      <td>9.24</td>\n",
       "      <td>1812</td>\n",
       "      <td>DRX</td>\n",
       "      <td>Qiyana</td>\n",
       "      <td>...</td>\n",
       "      <td>48633</td>\n",
       "      <td>28773</td>\n",
       "      <td>47010.0</td>\n",
       "      <td>15388.0</td>\n",
       "      <td>24644.0</td>\n",
       "      <td>58837</td>\n",
       "      <td>38977</td>\n",
       "      <td>51785.0</td>\n",
       "      <td>16135.0</td>\n",
       "      <td>23767.0</td>\n",
       "    </tr>\n",
       "    <tr>\n",
       "      <th>...</th>\n",
       "      <td>...</td>\n",
       "      <td>...</td>\n",
       "      <td>...</td>\n",
       "      <td>...</td>\n",
       "      <td>...</td>\n",
       "      <td>...</td>\n",
       "      <td>...</td>\n",
       "      <td>...</td>\n",
       "      <td>...</td>\n",
       "      <td>...</td>\n",
       "      <td>...</td>\n",
       "      <td>...</td>\n",
       "      <td>...</td>\n",
       "      <td>...</td>\n",
       "      <td>...</td>\n",
       "      <td>...</td>\n",
       "      <td>...</td>\n",
       "      <td>...</td>\n",
       "      <td>...</td>\n",
       "      <td>...</td>\n",
       "      <td>...</td>\n",
       "    </tr>\n",
       "    <tr>\n",
       "      <th>5144</th>\n",
       "      <td>1310259</td>\n",
       "      <td>EM</td>\n",
       "      <td>NaN</td>\n",
       "      <td>0</td>\n",
       "      <td>18/08/2020 20:25</td>\n",
       "      <td>1</td>\n",
       "      <td>10.16</td>\n",
       "      <td>2075</td>\n",
       "      <td>Racoon</td>\n",
       "      <td>Caitlyn</td>\n",
       "      <td>...</td>\n",
       "      <td>64974</td>\n",
       "      <td>42429</td>\n",
       "      <td>57925.0</td>\n",
       "      <td>15437.0</td>\n",
       "      <td>25367.0</td>\n",
       "      <td>56098</td>\n",
       "      <td>33553</td>\n",
       "      <td>57108.0</td>\n",
       "      <td>15263.0</td>\n",
       "      <td>22918.0</td>\n",
       "    </tr>\n",
       "    <tr>\n",
       "      <th>5145</th>\n",
       "      <td>1310260</td>\n",
       "      <td>EM</td>\n",
       "      <td>NaN</td>\n",
       "      <td>0</td>\n",
       "      <td>18/08/2020 20:27</td>\n",
       "      <td>1</td>\n",
       "      <td>10.16</td>\n",
       "      <td>2095</td>\n",
       "      <td>SINNERS Esports</td>\n",
       "      <td>Shen</td>\n",
       "      <td>...</td>\n",
       "      <td>70858</td>\n",
       "      <td>48113</td>\n",
       "      <td>65058.0</td>\n",
       "      <td>18545.0</td>\n",
       "      <td>28688.0</td>\n",
       "      <td>58726</td>\n",
       "      <td>35981</td>\n",
       "      <td>54775.0</td>\n",
       "      <td>16559.0</td>\n",
       "      <td>24468.0</td>\n",
       "    </tr>\n",
       "    <tr>\n",
       "      <th>5146</th>\n",
       "      <td>1310262</td>\n",
       "      <td>EM</td>\n",
       "      <td>NaN</td>\n",
       "      <td>0</td>\n",
       "      <td>18/08/2020 20:53</td>\n",
       "      <td>1</td>\n",
       "      <td>10.16</td>\n",
       "      <td>2879</td>\n",
       "      <td>Team GamerLegion</td>\n",
       "      <td>Nidalee</td>\n",
       "      <td>...</td>\n",
       "      <td>87236</td>\n",
       "      <td>56491</td>\n",
       "      <td>84670.0</td>\n",
       "      <td>14766.0</td>\n",
       "      <td>23862.0</td>\n",
       "      <td>82842</td>\n",
       "      <td>52097</td>\n",
       "      <td>79411.0</td>\n",
       "      <td>14861.0</td>\n",
       "      <td>23284.0</td>\n",
       "    </tr>\n",
       "    <tr>\n",
       "      <th>5147</th>\n",
       "      <td>1320317</td>\n",
       "      <td>EM</td>\n",
       "      <td>NaN</td>\n",
       "      <td>0</td>\n",
       "      <td>18/08/2020 20:56</td>\n",
       "      <td>1</td>\n",
       "      <td>10.16</td>\n",
       "      <td>1874</td>\n",
       "      <td>G2 Arctic</td>\n",
       "      <td>Cho'Gath</td>\n",
       "      <td>...</td>\n",
       "      <td>57694</td>\n",
       "      <td>37199</td>\n",
       "      <td>52925.0</td>\n",
       "      <td>16975.0</td>\n",
       "      <td>26145.0</td>\n",
       "      <td>45986</td>\n",
       "      <td>25491</td>\n",
       "      <td>45250.0</td>\n",
       "      <td>16091.0</td>\n",
       "      <td>24157.0</td>\n",
       "    </tr>\n",
       "    <tr>\n",
       "      <th>5148</th>\n",
       "      <td>1310264</td>\n",
       "      <td>EM</td>\n",
       "      <td>NaN</td>\n",
       "      <td>0</td>\n",
       "      <td>18/08/2020 21:27</td>\n",
       "      <td>1</td>\n",
       "      <td>10.16</td>\n",
       "      <td>1808</td>\n",
       "      <td>Intrepid Fox Gaming</td>\n",
       "      <td>Akali</td>\n",
       "      <td>...</td>\n",
       "      <td>56239</td>\n",
       "      <td>36419</td>\n",
       "      <td>51625.0</td>\n",
       "      <td>15400.0</td>\n",
       "      <td>25473.0</td>\n",
       "      <td>45677</td>\n",
       "      <td>25857</td>\n",
       "      <td>44308.0</td>\n",
       "      <td>14764.0</td>\n",
       "      <td>21733.0</td>\n",
       "    </tr>\n",
       "  </tbody>\n",
       "</table>\n",
       "<p>5149 rows × 380 columns</p>\n",
       "</div>"
      ],
      "text/plain": [
       "       gameId league split  playoffs              date  game  patch  \\\n",
       "0     1241318  KeSPA   NaN         0   03/01/2020 7:33     1   9.24   \n",
       "1     1241322  KeSPA   NaN         0   03/01/2020 9:00     2   9.24   \n",
       "2     1241324  KeSPA   NaN         0  03/01/2020 10:05     3   9.24   \n",
       "3     1241328  KeSPA   NaN         0  03/01/2020 10:57     4   9.24   \n",
       "4     1241386  KeSPA   NaN         0   04/01/2020 5:33     1   9.24   \n",
       "...       ...    ...   ...       ...               ...   ...    ...   \n",
       "5144  1310259     EM   NaN         0  18/08/2020 20:25     1  10.16   \n",
       "5145  1310260     EM   NaN         0  18/08/2020 20:27     1  10.16   \n",
       "5146  1310262     EM   NaN         0  18/08/2020 20:53     1  10.16   \n",
       "5147  1320317     EM   NaN         0  18/08/2020 20:56     1  10.16   \n",
       "5148  1310264     EM   NaN         0  18/08/2020 21:27     1  10.16   \n",
       "\n",
       "      gamelength        blue_playerid blue_ban1  ... blue_totalgold  \\\n",
       "0           2220       SANDBOX Gaming   LeBlanc  ...          68927   \n",
       "1           2227                   T1    Syndra  ...          57283   \n",
       "2           1711                   T1   LeBlanc  ...          58078   \n",
       "3           1999                   T1    Rumble  ...          50749   \n",
       "4           1812                  DRX    Qiyana  ...          48633   \n",
       "...          ...                  ...       ...  ...            ...   \n",
       "5144        2075               Racoon   Caitlyn  ...          64974   \n",
       "5145        2095      SINNERS Esports      Shen  ...          70858   \n",
       "5146        2879     Team GamerLegion   Nidalee  ...          87236   \n",
       "5147        1874            G2 Arctic  Cho'Gath  ...          57694   \n",
       "5148        1808  Intrepid Fox Gaming     Akali  ...          56239   \n",
       "\n",
       "     blue_earnedgold blue_spentgold blue_goldat10  blue_goldat15  \\\n",
       "0              44907        62275.0       14615.0        21953.0   \n",
       "1              33188        56575.0       14180.0        21714.0   \n",
       "2              39248        50660.0       15531.0        24882.0   \n",
       "3              28979        48400.0       14313.0        22329.0   \n",
       "4              28773        47010.0       15388.0        24644.0   \n",
       "...              ...            ...           ...            ...   \n",
       "5144           42429        57925.0       15437.0        25367.0   \n",
       "5145           48113        65058.0       18545.0        28688.0   \n",
       "5146           56491        84670.0       14766.0        23862.0   \n",
       "5147           37199        52925.0       16975.0        26145.0   \n",
       "5148           36419        51625.0       15400.0        25473.0   \n",
       "\n",
       "      red_totalgold  red_earnedgold  red_spentgold  red_goldat10  red_goldat15  \n",
       "0             62709           38689        62025.0       14498.0       22778.0  \n",
       "1             72004           47909        63975.0       16194.0       27198.0  \n",
       "2             42465           23635        40375.0       14849.0       22316.0  \n",
       "3             64845           43075        57400.0       15892.0       24800.0  \n",
       "4             58837           38977        51785.0       16135.0       23767.0  \n",
       "...             ...             ...            ...           ...           ...  \n",
       "5144          56098           33553        57108.0       15263.0       22918.0  \n",
       "5145          58726           35981        54775.0       16559.0       24468.0  \n",
       "5146          82842           52097        79411.0       14861.0       23284.0  \n",
       "5147          45986           25491        45250.0       16091.0       24157.0  \n",
       "5148          45677           25857        44308.0       14764.0       21733.0  \n",
       "\n",
       "[5149 rows x 380 columns]"
      ]
     },
     "execution_count": 33,
     "metadata": {},
     "output_type": "execute_result"
    }
   ],
   "source": [
    "gold_statistics.get_team_goldstats(df)"
   ]
  }
 ],
 "metadata": {
  "kernelspec": {
   "display_name": "Python 3",
   "language": "python",
   "name": "python3"
  },
  "language_info": {
   "codemirror_mode": {
    "name": "ipython",
    "version": 3
   },
   "file_extension": ".py",
   "mimetype": "text/x-python",
   "name": "python",
   "nbconvert_exporter": "python",
   "pygments_lexer": "ipython3",
   "version": "3.11.5"
  }
 },
 "nbformat": 4,
 "nbformat_minor": 2
}
