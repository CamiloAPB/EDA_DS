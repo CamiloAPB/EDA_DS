{
 "cells": [
  {
   "cell_type": "markdown",
   "metadata": {},
   "source": [
    "# Diario de trabajo"
   ]
  },
  {
   "cell_type": "markdown",
   "metadata": {},
   "source": [
    "## 8/1/24"
   ]
  },
  {
   "cell_type": "markdown",
   "metadata": {},
   "source": [
    "Confirmamos el trabajo previo de organización de las carpetas. Lo primero a realizar el la documentación del data set. Asegurarnos de tener todo bien documentado. Para ello primero cargamos en un notebook el mismo, pequeña exploración y nos apoyamos sobre ello.\n",
    "\n",
    "En la documentación vamos por el parche, y tras ello seguimos con la exploración inicial."
   ]
  }
 ],
 "metadata": {
  "language_info": {
   "name": "python"
  }
 },
 "nbformat": 4,
 "nbformat_minor": 2
}
